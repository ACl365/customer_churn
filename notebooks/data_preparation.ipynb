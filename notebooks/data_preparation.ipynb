{
 "cells": [
  {
   "cell_type": "code",
   "execution_count": null,
   "metadata": {},
   "outputs": [],
   "source": [
    "import pandas as pd\n",
    "from sklearn.preprocessing import LabelEncoder, StandardScaler\n",
    "from sklearn.model_selection import train_test_split\n",
    "\n",
    "# Load the training data\n",
    "train_data = pd.read_csv(\"../data/cell2celltrain.csv\")\n",
    "\n",
    "# Load the holdout data\n",
    "holdout_data = pd.read_csv(\"../data/cell2cellholdout.csv\")\n",
    "\n",
    "# Remove customer_id\n",
    "train_data = train_data.drop('CustomerID', axis=1)\n",
    "holdout_data = holdout_data.drop('CustomerID', axis=1)\n",
    "\n",
    "# Handle missing values BEFORE Label Encoding\n",
    "for col in train_data.columns:\n",
    "    if train_data[col].dtype == 'object':\n",
    "        train_data[col] = train_data[col].fillna('Unknown')\n",
    "        holdout_data[col] = holdout_data[col].fillna('Unknown')\n",
    "    else:\n",
    "        train_data[col] = train_data[col] = train_data[col].fillna(train_data[col].mean())\n",
    "        holdout_data[col] = holdout_data[col].fillna(holdout_data[col].mean())\n",
    "\n",
    "# Convert categorical features to numerical features\n",
    "for col in train_data.columns:\n",
    "    if train_data[col].dtype == 'object':\n",
    "        le = LabelEncoder()\n",
    "        # Fit LabelEncoder on combined data\n",
    "        le.fit(pd.concat([train_data[col], holdout_data[col]], axis=0))\n",
    "        train_data[col] = le.transform(train_data[col])\n",
    "        holdout_data[col] = le.transform(holdout_data[col])\n",
    "\n",
    "# Scale numerical features\n",
    "numerical_cols = train_data.select_dtypes(include=['number']).columns\n",
    "scaler = StandardScaler()\n",
    "train_data[numerical_cols] = scaler.fit_transform(train_data[numerical_cols])\n",
    "holdout_data[numerical_cols] = scaler.transform(holdout_data[numerical_cols])\n",
    "\n",
    "# Print the shape of the data\n",
    "print(\"Train data shape:\", train_data.shape)\n",
    "print(\"Holdout data shape:\", holdout_data.shape)\n",
    "\n",
    "# Split the training data into training and validation sets\n",
    "X = train_data.drop('Churn', axis=1)\n",
    "y = train_data['Churn']\n",
    "X_train, X_val, y_train, y_val = train_test_split(X, y, test_size=0.2, random_state=42)\n",
    "\n",
    "print(\"X_train shape:\", X_train.shape)\n",
    "print(\"X_val shape:\", X_val.shape)\n",
    "print(\"y_train shape:\", y_train.shape)\n",
    "print(\"y_val shape:\", y_val.shape)"
   ]
  }
 ],
 "metadata": {
  "kernelspec": {
   "display_name": "Python 3",
   "language": "python",
   "name": "python3"
  },
  "language_info": {
   "codemirror_mode": {
    "name": "ipython",
    "version": 3
   },
   "file_extension": ".py",
   "mimetype": "text/x-python",
   "name": "python",
   "nbconvert_exporter": "python",
   "pygments_lexer": "ipython3",
   "version": "3.9.12"
  }
 },
 "nbformat": 4,
 "nbformat_minor": 5
}