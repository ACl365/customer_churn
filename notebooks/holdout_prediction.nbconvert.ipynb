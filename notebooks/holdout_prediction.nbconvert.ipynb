{
 "cells": [
  {
   "cell_type": "code",
   "execution_count": 1,
   "id": "f45f1201",
   "metadata": {
    "execution": {
     "iopub.execute_input": "2025-03-20T14:15:54.291128Z",
     "iopub.status.busy": "2025-03-20T14:15:54.291128Z",
     "iopub.status.idle": "2025-03-20T14:15:56.865932Z",
     "shell.execute_reply": "2025-03-20T14:15:56.865932Z"
    }
   },
   "outputs": [
    {
     "name": "stdout",
     "output_type": "stream",
     "text": [
      "Predictions saved to churn_predictions.csv\n"
     ]
    }
   ],
   "source": [
    "import pandas as pd\n",
    "from sklearn.preprocessing import LabelEncoder, StandardScaler\n",
    "from sklearn.impute import SimpleImputer\n",
    "import pickle\n",
    "import os\n",
    "\n",
    "if __name__ == '__main__':\n",
    "    # Load the training data (for preprocessing)\n",
    "    train_data = pd.read_csv(\"../data/cell2celltrain.csv\")\n",
    "\n",
    "    # Remove customer_id\n",
    "    train_data = train_data.drop('CustomerID', axis=1)\n",
    "\n",
    "    # Handle missing values BEFORE Label Encoding\n",
    "    for col in train_data.columns:\n",
    "        if train_data[col].dtype == 'object':\n",
    "            train_data[col] = train_data[col].fillna('Unknown')\n",
    "\n",
    "    # Convert categorical features to numerical features\n",
    "    for col in train_data.columns:\n",
    "        if train_data[col].dtype == 'object':\n",
    "            le = LabelEncoder()\n",
    "            train_data[col] = le.fit_transform(train_data[col])\n",
    "\n",
    "    # Split the training data into training and validation sets\n",
    "    X = train_data.drop('Churn', axis=1)\n",
    "\n",
    "    # Impute missing values\n",
    "    imputer = SimpleImputer(strategy='mean')\n",
    "    X = imputer.fit_transform(X)\n",
    "\n",
    "    # Scale numerical features\n",
    "    scaler = StandardScaler()\n",
    "    X = scaler.fit_transform(X)\n",
    "\n",
    "    # Load the holdout data\n",
    "    holdout_data = pd.read_csv(\"../data/cell2cellholdout.csv\")\n",
    "\n",
    "    # Store customer IDs\n",
    "    customer_ids = holdout_data['CustomerID']\n",
    "\n",
    "    # Remove customer_id\n",
    "    holdout_data = holdout_data.drop('CustomerID', axis=1)\n",
    "\n",
    "    # Remove Churn column if it exists\n",
    "    if 'Churn' in holdout_data.columns:\n",
    "        holdout_data = holdout_data.drop('Churn', axis=1)\n",
    "\n",
    "    # Handle missing values BEFORE Label Encoding\n",
    "    for col in holdout_data.columns:\n",
    "        if holdout_data[col].dtype == 'object':\n",
    "            holdout_data[col] = holdout_data[col].fillna('Unknown')\n",
    "\n",
    "    # Convert categorical features to numerical features\n",
    "    for col in holdout_data.columns:\n",
    "        if holdout_data[col].dtype == 'object':\n",
    "            le = LabelEncoder()\n",
    "        holdout_data[col] = le.fit_transform(holdout_data[col])\n",
    "\n",
    "    # Impute missing values\n",
    "    holdout_data = imputer.transform(holdout_data)\n",
    "\n",
    "    # Scale numerical features\n",
    "    holdout_data = scaler.transform(holdout_data)\n",
    "\n",
    "    # Load the model\n",
    "    filename = 'models/xgboost_model.pkl'\n",
    "    loaded_model = pickle.load(open(filename, 'rb'))\n",
    "\n",
    "    # Make predictions on the holdout set\n",
    "    y_pred_holdout = loaded_model.predict(holdout_data)\n",
    "    y_prob_holdout = loaded_model.predict_proba(holdout_data)[:, 1]\n",
    "\n",
    "    # Create a dataframe with customer IDs and predictions\n",
    "    predictions = pd.DataFrame({'CustomerID': customer_ids, 'predicted_churn': y_pred_holdout, 'churn_probability': y_prob_holdout})\n",
    "\n",
    "    # Save predictions to a CSV file\n",
    "    predictions.to_csv('churn_predictions.csv', index=False)\n",
    "\n",
    "    print(\"Predictions saved to churn_predictions.csv\")"
   ]
  }
 ],
 "metadata": {
  "kernelspec": {
   "display_name": "Python 3",
   "language": "python",
   "name": "python3"
  },
  "language_info": {
   "codemirror_mode": {
    "name": "ipython",
    "version": 3
   },
   "file_extension": ".py",
   "mimetype": "text/x-python",
   "name": "python",
   "nbconvert_exporter": "python",
   "pygments_lexer": "ipython3",
   "version": "3.12.7"
  }
 },
 "nbformat": 4,
 "nbformat_minor": 5
}
